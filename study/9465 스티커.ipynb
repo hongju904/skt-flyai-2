{
 "cells": [
  {
   "cell_type": "code",
   "execution_count": 6,
   "id": "c785b691-8e96-4795-8a6a-bafc6b2a06bc",
   "metadata": {},
   "outputs": [
    {
     "name": "stdin",
     "output_type": "stream",
     "text": [
      " 1\n",
      " 5\n",
      " 50 10 100 20 40\n",
      " 30 50 70 10 60\n"
     ]
    },
    {
     "name": "stdout",
     "output_type": "stream",
     "text": [
      "260\n"
     ]
    }
   ],
   "source": [
    "T = int(input())\n",
    "for t in range(T):\n",
    "    n = int(input())\n",
    "    \n",
    "    stiker = [[] for _ in range(2)]\n",
    "    for i in range(2):\n",
    "        stiker[i] = list(map(int, input().split()))\n",
    "    \n",
    "    myStiker = stiker.copy()\n",
    "    \n",
    "    if n>=2 :\n",
    "        myStiker[0][1] += myStiker[1][0]\n",
    "        myStiker[1][1] += myStiker[0][0]\n",
    "    \n",
    "    for col in range(2,n):\n",
    "        myStiker[0][col] += max(myStiker[1][col-2], myStiker[1][col-1])\n",
    "        myStiker[1][col] += max(myStiker[0][col-2], myStiker[0][col-1])\n",
    "                \n",
    "    print(max(myStiker[0][-1], myStiker[1][-1]))"
   ]
  },
  {
   "cell_type": "markdown",
   "id": "6232cea5-2c59-4c04-b9a6-ffd2a3ac3c5f",
   "metadata": {},
   "source": [
    "---"
   ]
  },
  {
   "cell_type": "markdown",
   "id": "27f08142-5e21-4a16-a03e-4e50205f424a",
   "metadata": {},
   "source": [
    "## 풀이"
   ]
  },
  {
   "cell_type": "markdown",
   "id": "6da1a879-6feb-4e81-9825-eecf69cdf2df",
   "metadata": {},
   "source": [
    "알고리즘 공부를 쉰 기간이 있어 다시 풀기 위해 북마크해두었던 문제를 풀이함\n",
    "\n",
    "Stiker은 문제를 입력받기 위함, - myStiker은 greedy 결과를 저장하기 위함\n",
    "\n",
    "- n번째 열에서 이전까지의 합이 최대가 되기 위해서는 n-1열의 반대쪽 행, 혹은 n-2열의 어느 쪽에서 값을 받아야 함\n",
    "- n-2열에서 같은 행의 값을 받는다면 n-1열에서 반대쪽 행 값을 같이 얻을 수 있으므로 ▲에 이미 포함됨\n",
    "- n-2열에서 다른 행의 값을 받는다면 n-1열에서는 아무 값도 받을 수 없음\n",
    "\n",
    "따라서, \n",
    "- `myStiker[0][col] += max(myStiker[1][col-2], myStiker[1][col-1])`,\n",
    "- `myStiker[1][col] += max(myStiker[0][col-2], myStiker[0][col-1])`이 된다.\n",
    "\n",
    "최종적으로 모든 스티커 판에서 가장 높은 값을 추출해야 했는데, 마지막 열의 스티커는 무조건 뜯게 되므로 (n-1번째 열에서 어느 쪽을 뜯던지 그 반대 열에서 가져오면 된다) `max(myStiker[0][-1], myStiker[1][-1])`을 구했다."
   ]
  }
 ],
 "metadata": {
  "kernelspec": {
   "display_name": "skt",
   "language": "python",
   "name": "skt"
  },
  "language_info": {
   "codemirror_mode": {
    "name": "ipython",
    "version": 3
   },
   "file_extension": ".py",
   "mimetype": "text/x-python",
   "name": "python",
   "nbconvert_exporter": "python",
   "pygments_lexer": "ipython3",
   "version": "3.9.13"
  }
 },
 "nbformat": 4,
 "nbformat_minor": 5
}
