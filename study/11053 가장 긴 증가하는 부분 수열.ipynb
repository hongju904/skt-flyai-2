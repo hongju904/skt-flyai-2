{
 "cells": [
  {
   "cell_type": "code",
   "execution_count": 3,
   "id": "92ad7387-22f6-4715-b8fe-25edf626d423",
   "metadata": {},
   "outputs": [
    {
     "name": "stdin",
     "output_type": "stream",
     "text": [
      " 6\n",
      " 10 20 10 30 20 50\n"
     ]
    },
    {
     "name": "stdout",
     "output_type": "stream",
     "text": [
      "4\n"
     ]
    }
   ],
   "source": [
    "N = int(input())\n",
    "num = list(map(int, input().split()))\n",
    "count = [1 for _ in range(N)]\n",
    "\n",
    "for i in range(1,N):\n",
    "    for j in range(0,i):\n",
    "        if num[i] > num[j]:\n",
    "            count[i] = max(count[i], count[j]+1)\n",
    "            \n",
    "print(max(count))"
   ]
  },
  {
   "cell_type": "markdown",
   "id": "b1216345-793b-46bc-822b-3744dbe86140",
   "metadata": {},
   "source": [
    "---"
   ]
  },
  {
   "cell_type": "markdown",
   "id": "25790866-a6e2-417c-84c5-c270ac763cff",
   "metadata": {},
   "source": [
    "# 풀이"
   ]
  },
  {
   "cell_type": "markdown",
   "id": "8a57268a-64b8-40bd-9b78-13be374fe02c",
   "metadata": {},
   "source": [
    "알고리즘 공부를 쉰 기간이 있어 다시 풀기 위해 북마크해두었던 문제를 풀이함\n",
    "\n",
    "DP 문제임을 미리 인식하고 풀이하여 정답을 얻은 점이 영향을 끼친 것 같다.\n",
    "\n",
    "- num은 입력받은 숫자의 배열\n",
    "- count는 DP 저장 배열\n",
    "\n",
    "i번째 숫자 num이 j번째(i보다 이전에 있는 숫자) 보다 크다면, 해당 숫자의 DP와 자기자신의 DP 점수를 비교하여 더 높은 점수로 저장한다.\n",
    "\n",
    "먼저 앞서나가는 DP가 이후에 나오는 DP보다 뒤쳐질 가능성도 있기 때문. (ex: 10 20 90 100 30 40 50 ...)"
   ]
  }
 ],
 "metadata": {
  "kernelspec": {
   "display_name": "skt",
   "language": "python",
   "name": "skt"
  },
  "language_info": {
   "codemirror_mode": {
    "name": "ipython",
    "version": 3
   },
   "file_extension": ".py",
   "mimetype": "text/x-python",
   "name": "python",
   "nbconvert_exporter": "python",
   "pygments_lexer": "ipython3",
   "version": "3.9.13"
  }
 },
 "nbformat": 4,
 "nbformat_minor": 5
}
