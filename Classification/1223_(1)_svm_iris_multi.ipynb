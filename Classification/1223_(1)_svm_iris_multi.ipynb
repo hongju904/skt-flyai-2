{
 "cells": [
  {
   "cell_type": "markdown",
   "id": "97a8b6d3-1a43-48da-ac59-95165be13294",
   "metadata": {},
   "source": [
    "# SVC iris multi\n",
    "---"
   ]
  },
  {
   "cell_type": "code",
   "execution_count": 1,
   "id": "326dc39e-0f14-454b-ae89-51e9674158cd",
   "metadata": {},
   "outputs": [],
   "source": [
    "import numpy as np\n",
    "import pandas as pd\n",
    "import matplotlib.pyplot as plt\n",
    "import seaborn as sns\n",
    "import myutils as my"
   ]
  },
  {
   "cell_type": "markdown",
   "id": "d95e27e1-39db-4f0e-b15d-c7888abdf19d",
   "metadata": {},
   "source": [
    "## 데이터 준비"
   ]
  },
  {
   "cell_type": "code",
   "execution_count": 2,
   "id": "6244bd46-9dc6-40b8-9ddc-2f86249dc361",
   "metadata": {},
   "outputs": [
    {
     "data": {
      "text/plain": [
       "((80, 4), (20, 4), (80,), (20,))"
      ]
     },
     "execution_count": 2,
     "metadata": {},
     "output_type": "execute_result"
    }
   ],
   "source": [
    "X_train, X_test, y_train, y_test = my.get_iris(mode='bin')\n",
    "\n",
    "X_train.shape, X_test.shape, y_train.shape, y_test.shape"
   ]
  },
  {
   "cell_type": "markdown",
   "id": "d0eb4e5d-611b-4fee-9526-4aa3a787c6a7",
   "metadata": {},
   "source": [
    "## 정규화\n",
    "- 표준화 (StandardScaler)\n",
    "- 최소-최대 정규화 (MinMaxScaler)"
   ]
  },
  {
   "cell_type": "code",
   "execution_count": 3,
   "id": "16a25637-d738-457d-ae5d-3efbf1b15607",
   "metadata": {},
   "outputs": [],
   "source": [
    "from sklearn.preprocessing import MinMaxScaler\n",
    "\n",
    "scaler = MinMaxScaler()\n",
    "scaler.fit(X_train)\n",
    "\n",
    "X_train_s = scaler.transform(X_train)\n",
    "#X_train_s[:5]"
   ]
  },
  {
   "cell_type": "code",
   "execution_count": 4,
   "id": "f8371810-6f8a-44bb-8709-b26cbe5d2d40",
   "metadata": {},
   "outputs": [],
   "source": [
    "y_train_s = y_train.values"
   ]
  },
  {
   "cell_type": "markdown",
   "id": "5706a76e-c50d-40e6-bd18-28119c9bf86e",
   "metadata": {},
   "source": [
    "## 학습"
   ]
  },
  {
   "cell_type": "code",
   "execution_count": 5,
   "id": "ab863ac6-0b35-4e31-9d06-acbda24fe246",
   "metadata": {},
   "outputs": [
    {
     "data": {
      "text/plain": [
       "SVC(kernel='linear', random_state=2022)"
      ]
     },
     "execution_count": 5,
     "metadata": {},
     "output_type": "execute_result"
    }
   ],
   "source": [
    "from sklearn.svm import SVC\n",
    "\n",
    "svc = SVC(kernel='linear', random_state=2022)\n",
    "svc.fit(X_train_s, y_train_s)"
   ]
  },
  {
   "cell_type": "code",
   "execution_count": 6,
   "id": "b25174ba-710f-4164-a302-14b7ee01bb68",
   "metadata": {},
   "outputs": [
    {
     "data": {
      "text/plain": [
       "1.0"
      ]
     },
     "execution_count": 6,
     "metadata": {},
     "output_type": "execute_result"
    }
   ],
   "source": [
    "svc.score(X_train_s, y_train_s)"
   ]
  },
  {
   "cell_type": "code",
   "execution_count": 7,
   "id": "aa51437c-8d95-4cb6-81e4-5564e60fabcc",
   "metadata": {},
   "outputs": [
    {
     "data": {
      "text/plain": [
       "array([[ 0.61113305, -0.81845101,  1.75675951,  1.3825968 ]])"
      ]
     },
     "execution_count": 7,
     "metadata": {},
     "output_type": "execute_result"
    }
   ],
   "source": [
    "svc.coef_\n",
    "# 기울기의 값"
   ]
  },
  {
   "cell_type": "code",
   "execution_count": 8,
   "id": "7bea3888-6903-43a5-bf45-2428d57fa08e",
   "metadata": {},
   "outputs": [
    {
     "data": {
      "text/plain": [
       "array([-1.22672043])"
      ]
     },
     "execution_count": 8,
     "metadata": {},
     "output_type": "execute_result"
    }
   ],
   "source": [
    "svc.intercept_\n",
    "# shape"
   ]
  },
  {
   "cell_type": "markdown",
   "id": "125d5671-7e75-4611-a825-12486afeae1d",
   "metadata": {},
   "source": [
    "## 최종"
   ]
  },
  {
   "cell_type": "code",
   "execution_count": 9,
   "id": "48ed4788-b09d-42fa-98f0-0e809cf94b9c",
   "metadata": {},
   "outputs": [],
   "source": [
    "X_test_s = scaler.transform(X_test)\n",
    "y_test_s = y_test.values"
   ]
  },
  {
   "cell_type": "code",
   "execution_count": 10,
   "id": "985c76bf-c163-44a7-9cfa-a1bb578e2563",
   "metadata": {},
   "outputs": [
    {
     "data": {
      "text/plain": [
       "1.0"
      ]
     },
     "execution_count": 10,
     "metadata": {},
     "output_type": "execute_result"
    }
   ],
   "source": [
    "svc.score(X_test_s, y_test_s)"
   ]
  },
  {
   "cell_type": "markdown",
   "id": "c792bdb6-b0a5-4bab-9603-33d03d34fe36",
   "metadata": {},
   "source": [
    "## 예측"
   ]
  },
  {
   "cell_type": "code",
   "execution_count": 11,
   "id": "d1d9964f-fc24-47c2-b65e-2777d5609f2d",
   "metadata": {},
   "outputs": [],
   "source": [
    "y_pred = svc.predict(X_test_s)"
   ]
  },
  {
   "cell_type": "code",
   "execution_count": 12,
   "id": "f29c934c-7bec-466d-8dc5-6e484f76bca5",
   "metadata": {},
   "outputs": [
    {
     "name": "stdout",
     "output_type": "stream",
     "text": [
      "accuracy: 1.0\n",
      "precision: 1.0\n",
      "recall: 1.0\n"
     ]
    }
   ],
   "source": [
    "my.print_score(y_test_s, y_pred)"
   ]
  },
  {
   "cell_type": "code",
   "execution_count": 13,
   "id": "5bfa2f82-d649-435f-b4a1-f8b1f8b89c6f",
   "metadata": {},
   "outputs": [
    {
     "data": {
      "image/png": "[encoded data removed]",
      "text/plain": [
       "<Figure size 500x500 with 1 Axes>"
      ]
     },
     "metadata": {},
     "output_type": "display_data"
    }
   ],
   "source": [
    "my.plot_confusion_matrix(y_test_s, y_pred)"
   ]
  },
  {
   "cell_type": "markdown",
   "id": "01452409-48c1-49a0-b9d7-a46075d9700b",
   "metadata": {},
   "source": [
    "---\n",
    "# 다중분류"
   ]
  },
  {
   "cell_type": "code",
   "execution_count": 14,
   "id": "71d5b2b5-02bb-458d-9291-09a34b530269",
   "metadata": {},
   "outputs": [
    {
     "data": {
      "text/plain": [
       "((120, 4), (30, 4), (120,), (30,))"
      ]
     },
     "execution_count": 14,
     "metadata": {},
     "output_type": "execute_result"
    }
   ],
   "source": [
    "X_train, X_test, y_train, y_test = my.get_iris()\n",
    "\n",
    "X_train.shape, X_test.shape, y_train.shape, y_test.shape"
   ]
  },
  {
   "cell_type": "code",
   "execution_count": 15,
   "id": "f3fedc83-8308-4d18-9fac-a5e28c99bee7",
   "metadata": {},
   "outputs": [
    {
     "data": {
      "text/plain": [
       "MinMaxScaler()"
      ]
     },
     "execution_count": 15,
     "metadata": {},
     "output_type": "execute_result"
    }
   ],
   "source": [
    "from sklearn.preprocessing import MinMaxScaler\n",
    "\n",
    "scaler = MinMaxScaler()\n",
    "scaler.fit(X_train)"
   ]
  },
  {
   "cell_type": "code",
   "execution_count": 18,
   "id": "1645bb8a-e0bd-42b9-83f0-42ac659a7cb3",
   "metadata": {},
   "outputs": [],
   "source": [
    "X_train_s = scaler.transform(X_train)\n",
    "X_test_s = scaler.transform(X_test)\n",
    "y_train_s = y_train.values\n",
    "y_test_s = y_test.values"
   ]
  },
  {
   "cell_type": "code",
   "execution_count": 19,
   "id": "4291ae9f-5d86-481e-ba54-cf780dc99f07",
   "metadata": {},
   "outputs": [
    {
     "data": {
      "text/plain": [
       "SVC(kernel='linear', random_state=2022)"
      ]
     },
     "execution_count": 19,
     "metadata": {},
     "output_type": "execute_result"
    }
   ],
   "source": [
    "from sklearn.svm import SVC\n",
    "\n",
    "svc = SVC(kernel='linear', random_state=2022)\n",
    "svc.fit(X_train_s, y_train_s)"
   ]
  },
  {
   "cell_type": "code",
   "execution_count": 20,
   "id": "8ae8d289-a2bc-420d-9cef-229537e0b382",
   "metadata": {},
   "outputs": [
    {
     "data": {
      "text/plain": [
       "0.9666666666666667"
      ]
     },
     "execution_count": 20,
     "metadata": {},
     "output_type": "execute_result"
    }
   ],
   "source": [
    "svc.score(X_train_s, y_train_s)"
   ]
  },
  {
   "cell_type": "code",
   "execution_count": 33,
   "id": "b6b42682-8675-4cce-aa4f-c8da9c1396bb",
   "metadata": {},
   "outputs": [
    {
     "name": "stdout",
     "output_type": "stream",
     "text": [
      "coef: [[-0.53055058  1.33970031 -2.11749153 -1.93817589]\n",
      " [-0.4691355   0.51529246 -1.58409657 -1.48656971]\n",
      " [-0.54963312  0.75497453 -2.66627722 -3.85961393]]\n",
      "intercept: [0.76496595 1.17046034 4.52990526]\n"
     ]
    }
   ],
   "source": [
    "print(\"coef:\", svc.coef_)\n",
    "print(\"intercept:\", svc.intercept_)"
   ]
  },
  {
   "cell_type": "code",
   "execution_count": 23,
   "id": "9a1989d1-a203-4e5c-bcf1-fd3a7faabe28",
   "metadata": {},
   "outputs": [
    {
     "data": {
      "text/plain": [
       "0.9666666666666667"
      ]
     },
     "execution_count": 23,
     "metadata": {},
     "output_type": "execute_result"
    }
   ],
   "source": [
    "svc.score(X_test_s, y_test_s)"
   ]
  },
  {
   "cell_type": "code",
   "execution_count": 28,
   "id": "4c7944de-a833-4518-b616-ff49c07117eb",
   "metadata": {},
   "outputs": [],
   "source": [
    "y_pred = svc.predict(X_test_s)"
   ]
  },
  {
   "cell_type": "code",
   "execution_count": 31,
   "id": "91753b90-e9b7-4fb1-ac50-fc7db1556463",
   "metadata": {},
   "outputs": [
    {
     "name": "stdout",
     "output_type": "stream",
     "text": [
      "accuracy: 0.9666666666666667\n",
      "precision: 0.9629629629629629\n",
      "recall: 0.9743589743589745\n"
     ]
    }
   ],
   "source": [
    "my.print_score(y_test_s, y_pred, average='macro')"
   ]
  },
  {
   "cell_type": "code",
   "execution_count": 30,
   "id": "5542f70d-5762-4fd1-b554-1fa2c5dfc730",
   "metadata": {},
   "outputs": [
    {
     "data": {
      "image/png": "[encoded data removed]",
      "text/plain": [
       "<Figure size 500x500 with 1 Axes>"
      ]
     },
     "metadata": {},
     "output_type": "display_data"
    }
   ],
   "source": [
    "my.plot_confusion_matrix(y_test_s, y_pred)"
   ]
  },
  {
   "cell_type": "markdown",
   "id": "2375877d-1aed-4321-aacc-c41ae320659e",
   "metadata": {},
   "source": [
    "## 다중모델 찾기"
   ]
  },
  {
   "cell_type": "code",
   "execution_count": 34,
   "id": "069fea1c-a969-430d-98e8-77f983b75e14",
   "metadata": {},
   "outputs": [
    {
     "data": {
      "text/plain": [
       "((120, 4), (30, 4), (120,), (30,))"
      ]
     },
     "execution_count": 34,
     "metadata": {},
     "output_type": "execute_result"
    }
   ],
   "source": [
    "X_train, X_test, y_train, y_test = my.get_iris()\n",
    "\n",
    "X_train.shape, X_test.shape, y_train.shape, y_test.shape"
   ]
  },
  {
   "cell_type": "code",
   "execution_count": 35,
   "id": "2b1a8513-a72e-4ef5-af8b-390d61f574d2",
   "metadata": {},
   "outputs": [
    {
     "data": {
      "text/plain": [
       "MinMaxScaler()"
      ]
     },
     "execution_count": 35,
     "metadata": {},
     "output_type": "execute_result"
    }
   ],
   "source": [
    "from sklearn.preprocessing import MinMaxScaler\n",
    "\n",
    "scaler = MinMaxScaler()\n",
    "scaler.fit(X_train)"
   ]
  },
  {
   "cell_type": "code",
   "execution_count": 36,
   "id": "cb677697-0551-463e-b8f7-67b583ef6693",
   "metadata": {},
   "outputs": [],
   "source": [
    "X_train_s = scaler.transform(X_train)\n",
    "X_test_s = scaler.transform(X_test)\n",
    "y_train_s = y_train.values\n",
    "y_test_s = y_test.values"
   ]
  },
  {
   "cell_type": "markdown",
   "id": "82f8f08a-ad8c-4c11-a4b9-ebf54c9e2b91",
   "metadata": {},
   "source": [
    "### 모델 준비"
   ]
  },
  {
   "cell_type": "code",
   "execution_count": 42,
   "id": "65084fbd-435b-4432-befa-7be41213fe68",
   "metadata": {
    "tags": []
   },
   "outputs": [
    {
     "name": "stdout",
     "output_type": "stream",
     "text": [
      "linear 0.9666666666666667\n",
      "linearSVC 0.95\n",
      "poly 0.9833333333333333\n",
      "rbf 0.9666666666666667\n",
      "knn-5 0.9583333333333334\n",
      "knn-9 0.9666666666666667\n"
     ]
    },
    {
     "name": "stderr",
     "output_type": "stream",
     "text": [
      "C:\\Users\\006\\anaconda3\\lib\\site-packages\\sklearn\\neighbors\\_classification.py:228: FutureWarning: Unlike other reduction functions (e.g. `skew`, `kurtosis`), the default behavior of `mode` typically preserves the axis it acts along. In SciPy 1.11.0, this behavior will change: the default value of `keepdims` will become False, the `axis` over which the statistic is taken will be eliminated, and the value None will no longer be accepted. Set `keepdims` to True or False to avoid this warning.\n",
      "  mode, _ = stats.mode(_y[neigh_ind, k], axis=1)\n",
      "C:\\Users\\006\\anaconda3\\lib\\site-packages\\sklearn\\neighbors\\_classification.py:228: FutureWarning: Unlike other reduction functions (e.g. `skew`, `kurtosis`), the default behavior of `mode` typically preserves the axis it acts along. In SciPy 1.11.0, this behavior will change: the default value of `keepdims` will become False, the `axis` over which the statistic is taken will be eliminated, and the value None will no longer be accepted. Set `keepdims` to True or False to avoid this warning.\n",
      "  mode, _ = stats.mode(_y[neigh_ind, k], axis=1)\n"
     ]
    }
   ],
   "source": [
    "from sklearn.neighbors import KNeighborsClassifier\n",
    "from sklearn.svm import LinearSVC\n",
    "\n",
    "names = ['linear', 'linearSVC', 'poly', 'rbf', 'knn-5', 'knn-9']\n",
    "\n",
    "models = [\n",
    "    SVC(kernel='linear', C=1),\n",
    "    LinearSVC(C=1, max_iter=1000),\n",
    "    # 결과는 비슷\n",
    "    \n",
    "    SVC(kernel='poly', degree=3),\n",
    "    # 다항식을 씀. 차원(degree)는 3차원으로 설정\n",
    "    SVC(kernel='rbf', C=1, gamma=0.7),\n",
    "    \n",
    "    KNeighborsClassifier(n_neighbors=5),\n",
    "    KNeighborsClassifier(n_neighbors=9)\n",
    "]\n",
    "\n",
    "scores = {}\n",
    "\n",
    "for name, model in zip(names, models):\n",
    "    model.fit(X_train_s, y_train_s)\n",
    "    s = model.score(X_train_s, y_train_s)\n",
    "    print(name, s)\n",
    "    scores[name] = s"
   ]
  },
  {
   "cell_type": "code",
   "execution_count": 60,
   "id": "a2deb6cb-8ed1-40ca-bbee-35bc14ffe46c",
   "metadata": {},
   "outputs": [
    {
     "data": {
      "text/plain": [
       "<BarContainer object of 6 artists>"
      ]
     },
     "execution_count": 60,
     "metadata": {},
     "output_type": "execute_result"
    },
    {
     "data": {
      "image/png": "[encoded data removed]",
      "text/plain": [
       "<Figure size 640x480 with 1 Axes>"
      ]
     },
     "metadata": {},
     "output_type": "display_data"
    }
   ],
   "source": [
    "plt.bar(names,scores.values())"
   ]
  },
  {
   "cell_type": "code",
   "execution_count": 61,
   "id": "ba1acac9-f52c-4d8a-9649-911f389a5e96",
   "metadata": {},
   "outputs": [
    {
     "data": {
      "image/png": "[encoded data removed]",
      "text/plain": [
       "<Figure size 640x480 with 1 Axes>"
      ]
     },
     "metadata": {},
     "output_type": "display_data"
    }
   ],
   "source": [
    "for name, model in zip(names, scores.values()):\n",
    "    plt.bar(name,model)"
   ]
  },
  {
   "cell_type": "markdown",
   "id": "fd0b412b-4ef3-40ae-8593-91e1221d9da8",
   "metadata": {},
   "source": [
    "# GridSearch"
   ]
  },
  {
   "cell_type": "code",
   "execution_count": 63,
   "id": "2b2c5282-0222-4875-a856-07a02175f866",
   "metadata": {},
   "outputs": [
    {
     "data": {
      "text/plain": [
       "(numpy.ndarray, numpy.ndarray)"
      ]
     },
     "execution_count": 63,
     "metadata": {},
     "output_type": "execute_result"
    }
   ],
   "source": [
    "type(X_train_s), type(y_train_s)"
   ]
  },
  {
   "cell_type": "code",
   "execution_count": 67,
   "id": "84ad8faf-1071-4187-a912-6b56ae1571ce",
   "metadata": {},
   "outputs": [],
   "source": [
    "param_range = [0.001, 0.01, 0.1, 1, 10, 100, 1000]\n",
    "\n",
    "params = [\n",
    "    {   # key는 parameter 이름과 같아야 함\n",
    "        'C' : param_range,\n",
    "        'gamma' : param_range,\n",
    "        'kernel' : ['rbf']\n",
    "    },\n",
    "    {\n",
    "        'C' : param_range,\n",
    "        'kernel' : ['linear']\n",
    "    },\n",
    "    {\n",
    "        'C' : param_range,\n",
    "        'degree' : [2,3],\n",
    "        'kernel' : ['poly']\n",
    "    }\n",
    "]"
   ]
  },
  {
   "cell_type": "code",
   "execution_count": 71,
   "id": "9a0664f9-d322-4eae-9d1e-3890def2a249",
   "metadata": {},
   "outputs": [
    {
     "name": "stdout",
     "output_type": "stream",
     "text": [
      "Fitting 3 folds for each of 70 candidates, totalling 210 fits\n"
     ]
    },
    {
     "data": {
      "text/plain": [
       "GridSearchCV(cv=3, estimator=SVC(random_state=2022), n_jobs=-1,\n",
       "             param_grid=[{'C': [0.001, 0.01, 0.1, 1, 10, 100, 1000],\n",
       "                          'gamma': [0.001, 0.01, 0.1, 1, 10, 100, 1000],\n",
       "                          'kernel': ['rbf']},\n",
       "                         {'C': [0.001, 0.01, 0.1, 1, 10, 100, 1000],\n",
       "                          'kernel': ['linear']},\n",
       "                         {'C': [0.001, 0.01, 0.1, 1, 10, 100, 1000],\n",
       "                          'degree': [2, 3], 'kernel': ['poly']}],\n",
       "             scoring='accuracy', verbose=3)"
      ]
     },
     "execution_count": 71,
     "metadata": {},
     "output_type": "execute_result"
    }
   ],
   "source": [
    "from sklearn.model_selection import GridSearchCV\n",
    "# Cross Validation ( 데이터 분할 후 검증 데이터 돌려쓰기 )\n",
    "\n",
    "clf = SVC(random_state=2022)\n",
    "gs = GridSearchCV(estimator=clf,\n",
    "                    param_grid=params,\n",
    "                    scoring ='accuracy', \n",
    "                    cv=3,\n",
    "                    n_jobs=-1,\n",
    "                    verbose=3\n",
    "                 )\n",
    "gs.fit(X_train_s, y_train_s)"
   ]
  },
  {
   "cell_type": "code",
   "execution_count": 73,
   "id": "df1bdf09-759c-44c3-bebe-07a343d87403",
   "metadata": {},
   "outputs": [
    {
     "data": {
      "text/plain": [
       "SVC(C=10, gamma=1, random_state=2022)"
      ]
     },
     "execution_count": 73,
     "metadata": {},
     "output_type": "execute_result"
    }
   ],
   "source": [
    "gs.best_estimator_"
   ]
  },
  {
   "cell_type": "code",
   "execution_count": 75,
   "id": "fc8de160-66ef-49a0-a8b5-333cf22443b4",
   "metadata": {},
   "outputs": [
    {
     "data": {
      "text/plain": [
       "0.9833333333333334"
      ]
     },
     "execution_count": 75,
     "metadata": {},
     "output_type": "execute_result"
    }
   ],
   "source": [
    "gs.best_score_"
   ]
  },
  {
   "cell_type": "code",
   "execution_count": 77,
   "id": "c5d49dcf-edde-4879-9999-77a34929ca76",
   "metadata": {},
   "outputs": [
    {
     "data": {
      "text/plain": [
       "{'C': 10, 'gamma': 1, 'kernel': 'rbf'}"
      ]
     },
     "execution_count": 77,
     "metadata": {},
     "output_type": "execute_result"
    }
   ],
   "source": [
    "gs.best_params_"
   ]
  },
  {
   "cell_type": "code",
   "execution_count": 83,
   "id": "466f1c90-bb51-42b8-9fb2-36d2c6119393",
   "metadata": {},
   "outputs": [
    {
     "data": {
      "text/plain": [
       "0.975"
      ]
     },
     "execution_count": 83,
     "metadata": {},
     "output_type": "execute_result"
    }
   ],
   "source": [
    "# best_estimator_가 바로 학습된 상태임\n",
    "\n",
    "clf = gs.best_estimator_\n",
    "clf.fit(X_train_s, y_train_s)\n",
    "clf.score(X_train_s, y_train_s)"
   ]
  },
  {
   "cell_type": "markdown",
   "id": "b8aa92f3-27f9-4cda-b7a8-ca1b55ccbc5b",
   "metadata": {},
   "source": [
    "### 재학습 \n",
    "(시켜도되고 아니어도 되고)"
   ]
  },
  {
   "cell_type": "code",
   "execution_count": 81,
   "id": "c9804235-34f7-4666-a5d4-8bbc77450469",
   "metadata": {},
   "outputs": [
    {
     "data": {
      "text/plain": [
       "SVC(C=10, gamma=1, random_state=2022)"
      ]
     },
     "execution_count": 81,
     "metadata": {},
     "output_type": "execute_result"
    }
   ],
   "source": [
    "clf = SVC(C=10, gamma=1, kernel='rbf', random_state=2022)\n",
    "clf.fit(X_train_s, y_train_s)"
   ]
  },
  {
   "cell_type": "code",
   "execution_count": 82,
   "id": "3d1239fa-4247-45d1-8251-33fc4656b250",
   "metadata": {},
   "outputs": [
    {
     "data": {
      "text/plain": [
       "0.975"
      ]
     },
     "execution_count": 82,
     "metadata": {},
     "output_type": "execute_result"
    }
   ],
   "source": [
    "clf.score(X_train_s, y_train_s)"
   ]
  },
  {
   "cell_type": "code",
   "execution_count": 84,
   "id": "c7b27f1d-a131-4fa0-98ec-59a824e77cc4",
   "metadata": {},
   "outputs": [
    {
     "data": {
      "text/plain": [
       "0.9333333333333333"
      ]
     },
     "execution_count": 84,
     "metadata": {},
     "output_type": "execute_result"
    }
   ],
   "source": [
    "clf.score(X_test_s, y_test_s)"
   ]
  },
  {
   "cell_type": "markdown",
   "id": "02a2d04a-0bd2-4b49-9b59-a31f6991bae1",
   "metadata": {},
   "source": [
    "## RandomizedSearchCV"
   ]
  },
  {
   "cell_type": "code",
   "execution_count": 144,
   "id": "eeb7ef60-6404-4cad-a707-dbcd3bea1bed",
   "metadata": {},
   "outputs": [
    {
     "data": {
      "text/plain": [
       "RandomizedSearchCV(cv=3, estimator=SVC(random_state=2022), n_jobs=-1,\n",
       "                   param_distributions=[{'C': array([1.00000e-03, 5.01000e-01, 1.00100e+00, ..., 9.98501e+02,\n",
       "       9.99001e+02, 9.99501e+02]),\n",
       "                                         'gamma': array([1.00000e-03, 5.01000e-01, 1.00100e+00, ..., 9.98501e+02,\n",
       "       9.99001e+02, 9.99501e+02]),\n",
       "                                         'kernel': ['rbf']},\n",
       "                                        {'C': array([1.00000e-03, 5.01000e-01, 1.00100e+00, ..., 9.98501e+02,\n",
       "       9.99001e+02, 9.99501e+02]),\n",
       "                                         'kernel': ['linear']},\n",
       "                                        {'C': array([1.00000e-03, 5.01000e-01, 1.00100e+00, ..., 9.98501e+02,\n",
       "       9.99001e+02, 9.99501e+02]),\n",
       "                                         'degree': [2, 3],\n",
       "                                         'kernel': ['poly']}],\n",
       "                   scoring='accuracy')"
      ]
     },
     "execution_count": 144,
     "metadata": {},
     "output_type": "execute_result"
    }
   ],
   "source": [
    "from sklearn.model_selection import RandomizedSearchCV\n",
    "\n",
    "\n",
    "param_range = np.arange(0.001, 1000, 0.5)\n",
    "\n",
    "params = [\n",
    "    {   # key는 parameter 이름과 같아야 함\n",
    "        'C' : param_range,\n",
    "        'gamma' : param_range,\n",
    "        'kernel' : ['rbf']\n",
    "    },\n",
    "    {\n",
    "        'C' : param_range,\n",
    "        'kernel' : ['linear']\n",
    "    },\n",
    "    {\n",
    "        'C' : param_range,\n",
    "        'degree' : [2,3],\n",
    "        'kernel' : ['poly']\n",
    "    }\n",
    "]\n",
    "\n",
    "# param_distributions,  n_iter 설정 필요\n",
    "clf = SVC(random_state=2022)\n",
    "rancv = RandomizedSearchCV(estimator = clf,\n",
    "                           param_distributions = params,\n",
    "                           scoring ='accuracy',\n",
    "                           cv=3,\n",
    "                           n_jobs=-1,\n",
    "                           # verbose=3,\n",
    "                           #n_iter=10\n",
    "                          )\n",
    "rancv.fit(X_train_s, y_train_s)"
   ]
  },
  {
   "cell_type": "code",
   "execution_count": 145,
   "id": "ae196982-1a16-410a-bd8d-2a9c1487546c",
   "metadata": {},
   "outputs": [
    {
     "data": {
      "text/plain": [
       "SVC(C=10, gamma=1, random_state=2022)"
      ]
     },
     "execution_count": 145,
     "metadata": {},
     "output_type": "execute_result"
    }
   ],
   "source": [
    "gs.best_estimator_"
   ]
  },
  {
   "cell_type": "code",
   "execution_count": 146,
   "id": "469fa52c-d3fb-4225-b343-81ab24abf64e",
   "metadata": {},
   "outputs": [
    {
     "data": {
      "text/plain": [
       "0.9833333333333334"
      ]
     },
     "execution_count": 146,
     "metadata": {},
     "output_type": "execute_result"
    }
   ],
   "source": [
    "gs.best_score_"
   ]
  },
  {
   "cell_type": "code",
   "execution_count": 147,
   "id": "64c5b55c-05d0-4368-b767-8bf117285e50",
   "metadata": {},
   "outputs": [
    {
     "data": {
      "text/plain": [
       "{'C': 10, 'gamma': 1, 'kernel': 'rbf'}"
      ]
     },
     "execution_count": 147,
     "metadata": {},
     "output_type": "execute_result"
    }
   ],
   "source": [
    "gs.best_params_"
   ]
  },
  {
   "cell_type": "code",
   "execution_count": 148,
   "id": "16331ce6-72ca-463c-88e7-058ce95b034d",
   "metadata": {},
   "outputs": [
    {
     "data": {
      "text/plain": [
       "0.975"
      ]
     },
     "execution_count": 148,
     "metadata": {},
     "output_type": "execute_result"
    }
   ],
   "source": [
    "# best_estimator_가 바로 학습된 상태임\n",
    "\n",
    "clf = gs.best_estimator_\n",
    "clf.fit(X_train_s, y_train_s)\n",
    "clf.score(X_train_s, y_train_s)"
   ]
  },
  {
   "cell_type": "code",
   "execution_count": 149,
   "id": "0e61a114-1983-4f62-ae5f-892882df65aa",
   "metadata": {},
   "outputs": [
    {
     "data": {
      "text/plain": [
       "SVC(C=10, gamma=1, random_state=2022)"
      ]
     },
     "execution_count": 149,
     "metadata": {},
     "output_type": "execute_result"
    }
   ],
   "source": [
    "clf = SVC(C=10, gamma=1, kernel='rbf', random_state=2022)\n",
    "clf.fit(X_train_s, y_train_s)"
   ]
  },
  {
   "cell_type": "code",
   "execution_count": 150,
   "id": "c26559ca-9cc9-4e0e-8919-0a6c5fe838c5",
   "metadata": {},
   "outputs": [
    {
     "data": {
      "text/plain": [
       "0.975"
      ]
     },
     "execution_count": 150,
     "metadata": {},
     "output_type": "execute_result"
    }
   ],
   "source": [
    "clf.score(X_train_s, y_train_s)"
   ]
  },
  {
   "cell_type": "code",
   "execution_count": 151,
   "id": "a15490f6-bccd-4b96-841b-3561aebaf441",
   "metadata": {},
   "outputs": [
    {
     "data": {
      "text/plain": [
       "0.9333333333333333"
      ]
     },
     "execution_count": 151,
     "metadata": {},
     "output_type": "execute_result"
    }
   ],
   "source": [
    "clf.score(X_test_s, y_test_s)"
   ]
  },
  {
   "cell_type": "code",
   "execution_count": null,
   "id": "eb0906c7-9b34-416a-9586-efdaada1c9be",
   "metadata": {},
   "outputs": [],
   "source": []
  },
  {
   "cell_type": "code",
   "execution_count": null,
   "id": "c18b96b8-a203-42fc-9d3d-e916bf29a2a5",
   "metadata": {},
   "outputs": [],
   "source": []
  }
 ],
 "metadata": {
  "kernelspec": {
   "display_name": "skt",
   "language": "python",
   "name": "skt"
  },
  "language_info": {
   "codemirror_mode": {
    "name": "ipython",
    "version": 3
   },
   "file_extension": ".py",
   "mimetype": "text/x-python",
   "name": "python",
   "nbconvert_exporter": "python",
   "pygments_lexer": "ipython3",
   "version": "3.9.13"
  },
  "toc-autonumbering": false,
  "toc-showmarkdowntxt": false
 },
 "nbformat": 4,
 "nbformat_minor": 5
}
