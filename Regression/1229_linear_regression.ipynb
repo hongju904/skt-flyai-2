{
 "cells": [
  {
   "cell_type": "markdown",
   "id": "b871ba00-3897-4b6e-8a86-1d65590076cb",
   "metadata": {},
   "source": [
    "# 선형회귀"
   ]
  },
  {
   "cell_type": "code",
   "execution_count": 2,
   "id": "17128133-c562-46ee-a899-b10686019dbc",
   "metadata": {},
   "outputs": [],
   "source": [
    "import numpy as np\n",
    "import pandas as pd\n",
    "import matplotlib.pyplot as plt\n",
    "import seaborn as sns\n",
    "import myutils as my"
   ]
  },
  {
   "cell_type": "markdown",
   "id": "e9e60445-e904-47f2-b4d5-4835f41b9994",
   "metadata": {},
   "source": [
    "## 데이터 준비"
   ]
  },
  {
   "cell_type": "code",
   "execution_count": 4,
   "id": "e5ca2a6b-a11b-4a00-be6f-84baaeca34fc",
   "metadata": {},
   "outputs": [],
   "source": [
    "num = 51\n",
    "\n",
    "X = np.linspace(0,10,num)\n",
    "y = X + np.random.normal(1,2,51)"
   ]
  },
  {
   "cell_type": "code",
   "execution_count": 5,
   "id": "0a305f66-7a7b-41b1-a885-f75b28bb3a51",
   "metadata": {},
   "outputs": [
    {
     "data": {
      "text/plain": [
       "<AxesSubplot: >"
      ]
     },
     "execution_count": 5,
     "metadata": {},
     "output_type": "execute_result"
    },
    {
     "data": {
      "image/png": "[encoded data removed]",
      "text/plain": [
       "<Figure size 640x480 with 1 Axes>"
      ]
     },
     "metadata": {},
     "output_type": "display_data"
    }
   ],
   "source": [
    "sns.scatterplot(x=X, y=y)"
   ]
  },
  {
   "cell_type": "code",
   "execution_count": 6,
   "id": "ba7540c1-dd84-4b1c-bff2-ed31cbb96a8a",
   "metadata": {},
   "outputs": [
    {
     "data": {
      "text/plain": [
       "((40,), (11,))"
      ]
     },
     "execution_count": 6,
     "metadata": {},
     "output_type": "execute_result"
    }
   ],
   "source": [
    "from sklearn.model_selection import train_test_split\n",
    "\n",
    "X_train, X_test, y_train, y_test = train_test_split(X, y,\n",
    "                                                    test_size=0.2,\n",
    "                                                    random_state=2022)\n",
    "X_train.shape, X_test.shape"
   ]
  },
  {
   "cell_type": "code",
   "execution_count": 12,
   "id": "2cc6f238-8099-463f-a19e-5e5ea03d4c3d",
   "metadata": {},
   "outputs": [
    {
     "data": {
      "text/plain": [
       "array([[2. ],\n",
       "       [0.8],\n",
       "       [5. ],\n",
       "       [0. ],\n",
       "       [6.8]])"
      ]
     },
     "execution_count": 12,
     "metadata": {},
     "output_type": "execute_result"
    }
   ],
   "source": [
    "X_train = X_train.reshape(-1,1)\n",
    "X_train[:5]"
   ]
  },
  {
   "cell_type": "code",
   "execution_count": 13,
   "id": "bc647462-e746-42d9-9c4e-f3eb29461464",
   "metadata": {},
   "outputs": [
    {
     "data": {
      "text/plain": [
       "LinearRegression()"
      ]
     },
     "execution_count": 13,
     "metadata": {},
     "output_type": "execute_result"
    }
   ],
   "source": [
    "from sklearn.linear_model import LinearRegression\n",
    "\n",
    "lr = LinearRegression()\n",
    "lr.fit(X_train, y_train)"
   ]
  },
  {
   "cell_type": "code",
   "execution_count": 15,
   "id": "b4a72d9f-43f0-4f1d-9711-3762e6913960",
   "metadata": {},
   "outputs": [
    {
     "data": {
      "text/plain": [
       "(array([0.98032069]), 1.281601077393229)"
      ]
     },
     "execution_count": 15,
     "metadata": {},
     "output_type": "execute_result"
    }
   ],
   "source": [
    "lr.coef_, lr.intercept_\n",
    "#기울기 (a), 절편"
   ]
  },
  {
   "cell_type": "code",
   "execution_count": 16,
   "id": "e8f129aa-b54d-4ceb-93cf-153f8892ae05",
   "metadata": {},
   "outputs": [
    {
     "data": {
      "text/plain": [
       "array([3.24224247, 2.06585763, 6.18320455, 1.28160108, 7.9477818 ])"
      ]
     },
     "execution_count": 16,
     "metadata": {},
     "output_type": "execute_result"
    }
   ],
   "source": [
    "y_pred = lr.predict(X_train)\n",
    "y_pred[:5]"
   ]
  },
  {
   "cell_type": "code",
   "execution_count": 17,
   "id": "ac7813f5-8258-4433-88d7-3b8d07d82470",
   "metadata": {},
   "outputs": [
    {
     "data": {
      "text/plain": [
       "<function matplotlib.pyplot.show(close=None, block=None)>"
      ]
     },
     "execution_count": 17,
     "metadata": {},
     "output_type": "execute_result"
    },
    {
     "data": {
      "image/png": "[encoded data removed]",
      "text/plain": [
       "<Figure size 640x480 with 1 Axes>"
      ]
     },
     "metadata": {},
     "output_type": "display_data"
    }
   ],
   "source": [
    "sns.scatterplot(x=X_train.reshape(-1), y=y_train)\n",
    "plt.plot(X_train.reshape(-1), y_pred, 'r')\n",
    "plt.show"
   ]
  },
  {
   "cell_type": "markdown",
   "id": "d12c16fd-fe58-48f3-8e7b-0e23e19f9d7b",
   "metadata": {},
   "source": [
    "## 성능 평가"
   ]
  },
  {
   "cell_type": "code",
   "execution_count": 26,
   "id": "ab41017e-d424-46bd-9a29-161581bf5830",
   "metadata": {},
   "outputs": [
    {
     "data": {
      "text/plain": [
       "5.190315962353558"
      ]
     },
     "execution_count": 26,
     "metadata": {},
     "output_type": "execute_result"
    }
   ],
   "source": [
    "from sklearn.metrics import mean_squared_error, mean_absolute_error\n",
    "\n",
    "mse = mean_squared_error(y_train, y_pred)\n",
    "mse"
   ]
  },
  {
   "cell_type": "code",
   "execution_count": 27,
   "id": "b1c0cce5-aedb-4df6-a666-b731c973036d",
   "metadata": {},
   "outputs": [
    {
     "data": {
      "text/plain": [
       "2.2782264949634743"
      ]
     },
     "execution_count": 27,
     "metadata": {},
     "output_type": "execute_result"
    }
   ],
   "source": [
    "# RMSE = Mse에 루트 씌움\n",
    "\n",
    "rmse = np.sqrt(mse)\n",
    "rmse"
   ]
  },
  {
   "cell_type": "code",
   "execution_count": 28,
   "id": "c35bae5b-96d4-4256-932c-84bf01952695",
   "metadata": {},
   "outputs": [
    {
     "data": {
      "text/plain": [
       "1.9283559507068737"
      ]
     },
     "execution_count": 28,
     "metadata": {},
     "output_type": "execute_result"
    }
   ],
   "source": [
    "# MAE\n",
    "\n",
    "mean_absolute_error(y_train, y_pred)"
   ]
  },
  {
   "cell_type": "markdown",
   "id": "78acfc6f-1685-447f-847b-c77bfb2a32bd",
   "metadata": {},
   "source": [
    "## 테스트"
   ]
  },
  {
   "cell_type": "code",
   "execution_count": 29,
   "id": "dbd6d34f-bfd9-40c2-8836-4a5b19aafb01",
   "metadata": {},
   "outputs": [
    {
     "data": {
      "text/plain": [
       "array([10. ,  7.6,  8.6,  0.6,  1.8,  1.2,  7. ,  8.4,  1.4,  9.8,  4. ])"
      ]
     },
     "execution_count": 29,
     "metadata": {},
     "output_type": "execute_result"
    }
   ],
   "source": [
    "X_test"
   ]
  },
  {
   "cell_type": "code",
   "execution_count": 31,
   "id": "d96e34da-dc00-4894-838a-bf0d519036fc",
   "metadata": {},
   "outputs": [],
   "source": [
    "y_pred = lr.predict(X_test.reshape(-1,1))"
   ]
  },
  {
   "cell_type": "code",
   "execution_count": 33,
   "id": "60851b24-a429-4bdc-b18a-d4996afb329c",
   "metadata": {},
   "outputs": [
    {
     "data": {
      "text/plain": [
       "(1.9221924959273833, 1.3864315691469895)"
      ]
     },
     "execution_count": 33,
     "metadata": {},
     "output_type": "execute_result"
    }
   ],
   "source": [
    "mse = mean_squared_error(y_test, y_pred)\n",
    "rmse = np.sqrt(mse)\n",
    "\n",
    "mse, rmse"
   ]
  },
  {
   "cell_type": "code",
   "execution_count": 34,
   "id": "6350fe6f-0717-42b5-81a9-f4c48ce1f775",
   "metadata": {},
   "outputs": [
    {
     "data": {
      "text/plain": [
       "1.1070607664749206"
      ]
     },
     "execution_count": 34,
     "metadata": {},
     "output_type": "execute_result"
    }
   ],
   "source": [
    "mean_absolute_error(y_test, y_pred)"
   ]
  },
  {
   "cell_type": "markdown",
   "id": "e7dd774e-67d6-4a68-a1a1-1ec8837fbeec",
   "metadata": {},
   "source": [
    "# 시각화"
   ]
  },
  {
   "cell_type": "code",
   "execution_count": 38,
   "id": "f9bfa546-e021-497c-9236-bc034c134797",
   "metadata": {},
   "outputs": [
    {
     "data": {
      "text/plain": [
       "[<matplotlib.lines.Line2D at 0x1eb22a0bd30>]"
      ]
     },
     "execution_count": 38,
     "metadata": {},
     "output_type": "execute_result"
    },
    {
     "data": {
      "image/png": "[encoded data removed]",
      "text/plain": [
       "<Figure size 640x480 with 1 Axes>"
      ]
     },
     "metadata": {},
     "output_type": "display_data"
    }
   ],
   "source": [
    "plt.scatter(y_test, y_pred)\n",
    "plt.plot([0,10],[0,10],'r')\n",
    "#plt.plot(X_test.reshape(-1), y_pred, 'r')"
   ]
  },
  {
   "cell_type": "code",
   "execution_count": null,
   "id": "ac59c9cf-635d-42b5-8a31-bdd640f601e4",
   "metadata": {},
   "outputs": [],
   "source": []
  }
 ],
 "metadata": {
  "kernelspec": {
   "display_name": "skt",
   "language": "python",
   "name": "skt"
  },
  "language_info": {
   "codemirror_mode": {
    "name": "ipython",
    "version": 3
   },
   "file_extension": ".py",
   "mimetype": "text/x-python",
   "name": "python",
   "nbconvert_exporter": "python",
   "pygments_lexer": "ipython3",
   "version": "3.9.13"
  }
 },
 "nbformat": 4,
 "nbformat_minor": 5
}
